{
 "cells": [
  {
   "cell_type": "code",
   "execution_count": 2,
   "id": "d6dbc9a3-8a58-47c2-a74b-e73ee7f108c4",
   "metadata": {},
   "outputs": [],
   "source": [
    "import pandas as pd\n",
    "import matplotlib.pyplot as plt\n",
    "from ipywidgets import interact\n",
    "import ipywidgets as widgets"
   ]
  },
  {
   "cell_type": "code",
   "execution_count": 2,
   "id": "e501117f-0ef2-4949-9559-2d9863afd787",
   "metadata": {},
   "outputs": [],
   "source": [
    "df = pd.read_csv('https://raw.githubusercontent.com/ndmnh/ct2024-ds-hw2-p4/main/weather.csv')"
   ]
  },
  {
   "cell_type": "markdown",
   "id": "53230c0f-5985-42ec-b5db-9d0692c0148a",
   "metadata": {},
   "source": [
    "### Part A"
   ]
  },
  {
   "cell_type": "code",
   "execution_count": 3,
   "id": "1bd03805-c448-41b0-8b1a-510861d287e7",
   "metadata": {},
   "outputs": [],
   "source": [
    "df['Ftemp'] = (df['Ktemp'] - 273.15) * 9/5 + 32"
   ]
  },
  {
   "cell_type": "code",
   "execution_count": 4,
   "id": "9a28b7b1-a827-4105-aa15-c9e2ce5e8f3a",
   "metadata": {},
   "outputs": [
    {
     "data": {
      "text/plain": [
       "0        34.245212\n",
       "1        39.066674\n",
       "2        45.771620\n",
       "3        57.182180\n",
       "4        54.504716\n",
       "           ...    \n",
       "26293    38.058440\n",
       "26294    38.909300\n",
       "26295    42.241550\n",
       "26296    44.140640\n",
       "26297    47.198030\n",
       "Name: Ftemp, Length: 26298, dtype: float64"
      ]
     },
     "execution_count": 4,
     "metadata": {},
     "output_type": "execute_result"
    }
   ],
   "source": [
    "df['Ftemp']"
   ]
  },
  {
   "cell_type": "code",
   "execution_count": 5,
   "id": "a6203e03-c47d-4384-8b17-016a5a8b4e48",
   "metadata": {},
   "outputs": [],
   "source": [
    "df['time'] = pd.to_datetime(df['time'])\n",
    "df['year'] = df['time'].dt.year\n",
    "df['month'] = df['time'].dt.month"
   ]
  },
  {
   "cell_type": "code",
   "execution_count": 6,
   "id": "0f407f9b-d3fa-4608-8c13-ee2e32a5ed66",
   "metadata": {},
   "outputs": [],
   "source": [
    "monthly_avg = df.groupby(['year', 'month'])['Ftemp'].mean().reset_index()"
   ]
  },
  {
   "cell_type": "code",
   "execution_count": 7,
   "id": "5a6598da-a539-4c55-b5b8-85ba665a145d",
   "metadata": {
    "scrolled": true
   },
   "outputs": [
    {
     "data": {
      "application/vnd.jupyter.widget-view+json": {
       "model_id": "b649ea279d374100ab9a36ba4d8da836",
       "version_major": 2,
       "version_minor": 0
      },
      "text/plain": [
       "interactive(children=(IntSlider(value=1950, description='year', max=2021, min=1950), Output()), _dom_classes=(…"
      ]
     },
     "metadata": {},
     "output_type": "display_data"
    },
    {
     "data": {
      "text/plain": [
       "<function __main__.plot_yearly_temps(year)>"
      ]
     },
     "execution_count": 7,
     "metadata": {},
     "output_type": "execute_result"
    }
   ],
   "source": [
    "# Define a plotting function\n",
    "def plot_yearly_temps(year):\n",
    "    plt.figure(figsize=(10, 6))\n",
    "    yearly_data = monthly_avg[monthly_avg['year'] == year]\n",
    "    plt.plot(yearly_data['month'], yearly_data['Ftemp'], marker='o')\n",
    "    plt.title(f'Average Monthly Temperature in {year}')\n",
    "    plt.xlabel('Month')\n",
    "    plt.ylabel('Temperature (F)')\n",
    "    plt.xticks(range(1, 13), ['Jan', 'Feb', 'Mar', 'Apr', 'May', 'Jun', 'Jul', 'Aug', 'Sep', 'Oct', 'Nov', 'Dec'])\n",
    "    plt.grid(True)\n",
    "    plt.show()\n",
    "\n",
    "# Create an interactive widget\n",
    "years = monthly_avg['year'].unique()\n",
    "interact(plot_yearly_temps, year=widgets.IntSlider(min=years.min(), max=years.max(), step=1, value=years.min()))\n"
   ]
  },
  {
   "cell_type": "markdown",
   "id": "487a56c8-a8e7-4076-bd5d-18caa61c88e9",
   "metadata": {},
   "source": [
    "Instructions on how to run interactive visualization graph:\n",
    "\n",
    "Go to this link and wait till environment finishes building to see this very Jupyter notebook hosted publicly https://notebooks.gesis.org/binder/jupyter/user/ndmnh-ct2024-ds-hw2-p4-cinwvja3/doc/tree/q4.ipynb\n",
    "\n",
    "Run all the cell up until the cell above this one to see the interactive diagram (with the slider) showing up."
   ]
  },
  {
   "cell_type": "markdown",
   "id": "23c49ce0-a5f4-4a48-ae9b-e66bc528d4c8",
   "metadata": {},
   "source": [
    "### Part B"
   ]
  },
  {
   "cell_type": "code",
   "execution_count": 16,
   "id": "29897cc7-dd82-4a7e-8399-0877fdb4d90e",
   "metadata": {},
   "outputs": [
    {
     "data": {
      "text/html": [
       "<div>\n",
       "<style scoped>\n",
       "    .dataframe tbody tr th:only-of-type {\n",
       "        vertical-align: middle;\n",
       "    }\n",
       "\n",
       "    .dataframe tbody tr th {\n",
       "        vertical-align: top;\n",
       "    }\n",
       "\n",
       "    .dataframe thead th {\n",
       "        text-align: right;\n",
       "    }\n",
       "</style>\n",
       "<table border=\"1\" class=\"dataframe\">\n",
       "  <thead>\n",
       "    <tr style=\"text-align: right;\">\n",
       "      <th></th>\n",
       "      <th>year</th>\n",
       "      <th>avg_temp</th>\n",
       "    </tr>\n",
       "  </thead>\n",
       "  <tbody>\n",
       "    <tr>\n",
       "      <th>0</th>\n",
       "      <td>1950</td>\n",
       "      <td>52.776070</td>\n",
       "    </tr>\n",
       "    <tr>\n",
       "      <th>1</th>\n",
       "      <td>1951</td>\n",
       "      <td>53.822162</td>\n",
       "    </tr>\n",
       "    <tr>\n",
       "      <th>2</th>\n",
       "      <td>1952</td>\n",
       "      <td>54.372742</td>\n",
       "    </tr>\n",
       "    <tr>\n",
       "      <th>3</th>\n",
       "      <td>1953</td>\n",
       "      <td>55.295208</td>\n",
       "    </tr>\n",
       "    <tr>\n",
       "      <th>4</th>\n",
       "      <td>1954</td>\n",
       "      <td>53.463150</td>\n",
       "    </tr>\n",
       "    <tr>\n",
       "      <th>...</th>\n",
       "      <td>...</td>\n",
       "      <td>...</td>\n",
       "    </tr>\n",
       "    <tr>\n",
       "      <th>67</th>\n",
       "      <td>2017</td>\n",
       "      <td>55.456930</td>\n",
       "    </tr>\n",
       "    <tr>\n",
       "      <th>68</th>\n",
       "      <td>2018</td>\n",
       "      <td>54.944623</td>\n",
       "    </tr>\n",
       "    <tr>\n",
       "      <th>69</th>\n",
       "      <td>2019</td>\n",
       "      <td>54.809348</td>\n",
       "    </tr>\n",
       "    <tr>\n",
       "      <th>70</th>\n",
       "      <td>2020</td>\n",
       "      <td>56.145076</td>\n",
       "    </tr>\n",
       "    <tr>\n",
       "      <th>71</th>\n",
       "      <td>2021</td>\n",
       "      <td>56.078091</td>\n",
       "    </tr>\n",
       "  </tbody>\n",
       "</table>\n",
       "<p>72 rows × 2 columns</p>\n",
       "</div>"
      ],
      "text/plain": [
       "    year   avg_temp\n",
       "0   1950  52.776070\n",
       "1   1951  53.822162\n",
       "2   1952  54.372742\n",
       "3   1953  55.295208\n",
       "4   1954  53.463150\n",
       "..   ...        ...\n",
       "67  2017  55.456930\n",
       "68  2018  54.944623\n",
       "69  2019  54.809348\n",
       "70  2020  56.145076\n",
       "71  2021  56.078091\n",
       "\n",
       "[72 rows x 2 columns]"
      ]
     },
     "execution_count": 16,
     "metadata": {},
     "output_type": "execute_result"
    }
   ],
   "source": [
    "yearly_avg_temp = df.groupby('year')['Ftemp'].mean().reset_index(name='avg_temp')\n",
    "\n",
    "yearly_avg_temp"
   ]
  },
  {
   "cell_type": "code",
   "execution_count": 17,
   "id": "81efc7eb-4c1e-438b-a5d6-811531f6939b",
   "metadata": {},
   "outputs": [
    {
     "data": {
      "text/html": [
       "<div>\n",
       "<style scoped>\n",
       "    .dataframe tbody tr th:only-of-type {\n",
       "        vertical-align: middle;\n",
       "    }\n",
       "\n",
       "    .dataframe tbody tr th {\n",
       "        vertical-align: top;\n",
       "    }\n",
       "\n",
       "    .dataframe thead th {\n",
       "        text-align: right;\n",
       "    }\n",
       "</style>\n",
       "<table border=\"1\" class=\"dataframe\">\n",
       "  <thead>\n",
       "    <tr style=\"text-align: right;\">\n",
       "      <th></th>\n",
       "      <th>year</th>\n",
       "      <th>avg_temp</th>\n",
       "    </tr>\n",
       "  </thead>\n",
       "  <tbody>\n",
       "    <tr>\n",
       "      <th>3</th>\n",
       "      <td>1953</td>\n",
       "      <td>55.295208</td>\n",
       "    </tr>\n",
       "  </tbody>\n",
       "</table>\n",
       "</div>"
      ],
      "text/plain": [
       "   year   avg_temp\n",
       "3  1953  55.295208"
      ]
     },
     "execution_count": 17,
     "metadata": {},
     "output_type": "execute_result"
    }
   ],
   "source": [
    "first_year_above_55 = yearly_avg_temp[yearly_avg_temp['avg_temp'] > 55].head(1)\n",
    "\n",
    "first_year_above_55"
   ]
  },
  {
   "cell_type": "markdown",
   "id": "a04459e2-92e4-4a26-b1a3-9e7e982f87c7",
   "metadata": {},
   "source": [
    "so the year was 1953"
   ]
  },
  {
   "cell_type": "markdown",
   "id": "45d417a9-6e30-443e-8c62-5442158b59c8",
   "metadata": {},
   "source": [
    "### Part C"
   ]
  },
  {
   "cell_type": "code",
   "execution_count": 3,
   "id": "6b788d98-7ae7-4408-bec9-eee838eafcba",
   "metadata": {},
   "outputs": [
    {
     "data": {
      "image/png": "[encoded data removed]",
      "text/plain": [
       "<Figure size 1000x600 with 1 Axes>"
      ]
     },
     "metadata": {},
     "output_type": "display_data"
    }
   ],
   "source": [
    "sales_df = pd.read_csv('https://raw.githubusercontent.com/ndmnh/ct2024-ds-hw2-p4/main/2021_manhattan.csv')\n",
    "sales_df['sale_date'] = pd.to_datetime(sales_df['SALE DATE'])\n",
    "sales_df['month'] = sales_df['sale_date'].dt.month\n",
    "monthly_sales = sales_df.groupby('month').size()\n",
    "plt.figure(figsize=(10, 6))\n",
    "monthly_sales.plot(kind='line')\n",
    "plt.title('Number of Property Sales by Month in NYC in 2021')\n",
    "plt.xlabel('Month')\n",
    "plt.ylabel('Number of Sales')\n",
    "plt.xticks(ticks=range(12), labels=['Jan', 'Feb', 'Mar', 'Apr', 'May', 'Jun', \n",
    "                                    'Jul', 'Aug', 'Sep', 'Oct', 'Nov', 'Dec'], rotation=45)\n",
    "plt.show()"
   ]
  },
  {
   "cell_type": "markdown",
   "id": "0249ec19-2733-4dcc-99a9-1cfb99ef0a59",
   "metadata": {},
   "source": [
    "I used the property sales dataset in Manhattan in 2021 from https://www.nyc.gov/site/finance/property/property-annualized-sales-update.page\n",
    "\n",
    "The positive correlation between rising temperatures and increased sales of property can be attributed to several factors that influence buyer behavior and market dynamics.\n",
    "\n",
    "#### Improved Market Sentiment in Warmer Months\n",
    "Generally, real estate markets tend to be more active during warmer months. This is partly due to better weather conditions, making it more convenient for buyers to attend open houses and inspections (warmer weather, longer daylight hours). Additionally, families prefer to move during the summer to avoid disrupting the school year.\n",
    "\n",
    "#### Economic Activity and Seasonality\n",
    "Warmer periods often coincide with economic upticks in many areas due to seasonal employment, tourism, and consumer spending. This increase in economic activity can boost buyer confidence and purchasing power, leading to more property transactions.\n",
    "\n",
    "#### Development and Construction Cycles\n",
    "Construction and development projects often ramp up during warmer months due to favorable working conditions. The completion of new homes and commercial properties can increase inventory and stimulate market activity, contributing to more sales."
   ]
  }
 ],
 "metadata": {
  "kernelspec": {
   "display_name": "Python 3 (ipykernel)",
   "language": "python",
   "name": "python3"
  },
  "language_info": {
   "codemirror_mode": {
    "name": "ipython",
    "version": 3
   },
   "file_extension": ".py",
   "mimetype": "text/x-python",
   "name": "python",
   "nbconvert_exporter": "python",
   "pygments_lexer": "ipython3",
   "version": "3.11.8"
  }
 },
 "nbformat": 4,
 "nbformat_minor": 5
}
